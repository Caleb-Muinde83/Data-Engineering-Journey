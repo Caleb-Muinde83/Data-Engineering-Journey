{
  "nbformat": 4,
  "nbformat_minor": 0,
  "metadata": {
    "colab": {
      "provenance": []
    },
    "kernelspec": {
      "name": "python3",
      "display_name": "Python 3"
    },
    "language_info": {
      "name": "python"
    }
  },
  "cells": [
    {
      "cell_type": "code",
      "execution_count": 10,
      "metadata": {
        "colab": {
          "base_uri": "https://localhost:8080/"
        },
        "id": "jOfj1107uDc9",
        "outputId": "76719fc3-675a-4831-b79e-8ada3dd121a8"
      },
      "outputs": [
        {
          "output_type": "stream",
          "name": "stdout",
          "text": [
            "Welcome to the bidding software!!!\n",
            "Enter the name of the bidder: \n",
            "uykfku\n",
            "Enter your bidding price: \n",
            "54\n",
            "Type *Yes* to enter another bidder and *No* to get the winneryes\n",
            "Enter the name of the bidder: \n",
            "kg\n",
            "Enter your bidding price: \n",
            "45\n",
            "Type *Yes* to enter another bidder and *No* to get the winnerno\n",
            "The winner is uykfku with a bid worth ksh. 54.0\n"
          ]
        }
      ],
      "source": [
        "print(\"Welcome to the bidding software!!!\")\n",
        "bids = {}\n",
        "\n",
        "while True:\n",
        "  name = str(input(\"Enter the name of the bidder: \\n\")).lower()\n",
        "  bid_price = float(input(\"Enter your bidding price: \\n\"))\n",
        "  bids[name] = bid_price\n",
        "  next_bidder = str(input(\"Type *Yes* to enter another bidder and *No* to get the winner\")).lower()\n",
        "\n",
        "\n",
        "  if next_bidder == \"no\":\n",
        "    def get_winner(bids):\n",
        "      max_value = float('-inf')\n",
        "      max_key = None\n",
        "\n",
        "      for key, value in bids.items():\n",
        "        if value > max_value:\n",
        "          max_value = value\n",
        "          max_key = key\n",
        "\n",
        "\n",
        "      print(f'The winner is {max_key} with a bid worth ksh. { max_value}')\n",
        "    get_winner(bids)\n",
        "    break\n",
        "\n",
        "  elif next_bidder != \"Yes\":\n",
        "    continue\n",
        "\n"
      ]
    },
    {
      "cell_type": "code",
      "source": [
        "bids = {}\n",
        "bidding_finished = False\n",
        "\n",
        "def find_highest_bidder(bidding_record):\n",
        "  highest_bid = 0\n",
        "  winner = \"\"\n",
        "  # bidding_record = {\"Angela\": 123, \"James\": 321}\n",
        "  for bidder in bidding_record:\n",
        "    bid_amount = bidding_record[bidder]\n",
        "    if bid_amount > highest_bid:\n",
        "      highest_bid = bid_amount\n",
        "      winner = bidder\n",
        "  print(f\"The winner is {winner} with a bid of ${highest_bid}\")\n",
        "\n",
        "while not bidding_finished:\n",
        "  name = input(\"What is your name?: \")\n",
        "  price = int(input(\"What is your bid?: $\"))\n",
        "  bids[name] = price\n",
        "  should_continue = input(\"Are there any other bidders? Type 'yes or 'no'.\\n\")\n",
        "  if should_continue == \"no\":\n",
        "    bidding_finished = True\n",
        "    find_highest_bidder(bids)\n",
        "  elif should_continue == \"yes\":\n",
        "    continue"
      ],
      "metadata": {
        "id": "ecNudOiPwtYh"
      },
      "execution_count": null,
      "outputs": []
    }
  ]
}