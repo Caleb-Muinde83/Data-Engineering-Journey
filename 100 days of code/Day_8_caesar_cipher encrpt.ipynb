{
  "nbformat": 4,
  "nbformat_minor": 0,
  "metadata": {
    "colab": {
      "provenance": []
    },
    "kernelspec": {
      "name": "python3",
      "display_name": "Python 3"
    },
    "language_info": {
      "name": "python"
    }
  },
  "cells": [
    {
      "cell_type": "code",
      "source": [
        "#Write your code below this line 👇\n",
        "import math\n",
        "def paint_calc(height, width, cover):\n",
        "  area = height * width\n",
        "  num_of_cans = math.ceil(area / cover)\n",
        "  print(f'You will need {num_of_cans} cans of paint')\n",
        "\n",
        "\n",
        "#Write your code above this line 👆\n",
        "# Define a function called paint_calc() so that the code below works.\n",
        "\n",
        "# 🚨 Don't change the code below 👇\n",
        "test_h = int(input(\"Height of wall: \"))\n",
        "test_w = int(input(\"Width of wall: \"))\n",
        "coverage = 5\n",
        "paint_calc(height=test_h, width=test_w, cover=coverage)\n"
      ],
      "metadata": {
        "colab": {
          "base_uri": "https://localhost:8080/"
        },
        "id": "Zv-usRvjMcto",
        "outputId": "1047a8b2-5e84-4167-a229-e732c704fe6b"
      },
      "execution_count": null,
      "outputs": [
        {
          "output_type": "stream",
          "name": "stdout",
          "text": [
            "Height of wall: 5\n",
            "Width of wall: 3\n",
            "You will need 3 cans of paint\n"
          ]
        }
      ]
    },
    {
      "cell_type": "markdown",
      "source": [
        "Prime number checker"
      ],
      "metadata": {
        "id": "3NO8NqUfPlmm"
      }
    },
    {
      "cell_type": "code",
      "source": [
        "#Write your code below this line 👇\n",
        "def prime_checker(number):\n",
        "  is_prime = True\n",
        "  for i in range(2, number):\n",
        "    if number % i == 0:\n",
        "      is_prime = False\n",
        "  if is_prime:\n",
        "    print(f'{number} is a prime number')\n",
        "  else:\n",
        "    print(f'{number} is not a prime number')\n",
        "\n",
        "\n",
        "#Write your code above this line 👆\n",
        "\n",
        "#Do NOT change any of the code below👇\n",
        "n = int(input(\"Check this number: \"))\n",
        "prime_checker(number=n)\n",
        "\n",
        "\n",
        "\n"
      ],
      "metadata": {
        "colab": {
          "base_uri": "https://localhost:8080/"
        },
        "id": "y3E-D1TwPo09",
        "outputId": "be022175-ba6b-4df2-d960-b952858b4ae9"
      },
      "execution_count": null,
      "outputs": [
        {
          "output_type": "stream",
          "name": "stdout",
          "text": [
            "Check this number: 9\n",
            "9 is not a prime number\n"
          ]
        }
      ]
    },
    {
      "cell_type": "code",
      "source": [
        "2%2\n"
      ],
      "metadata": {
        "colab": {
          "base_uri": "https://localhost:8080/"
        },
        "id": "Z-Y582WsTIFB",
        "outputId": "ff2bc734-a4aa-4625-edfd-6147cd8e13dc"
      },
      "execution_count": null,
      "outputs": [
        {
          "output_type": "execute_result",
          "data": {
            "text/plain": [
              "0"
            ]
          },
          "metadata": {},
          "execution_count": 3
        }
      ]
    },
    {
      "cell_type": "markdown",
      "source": [
        "Caesar Cipher encrypruion"
      ],
      "metadata": {
        "id": "3OCMIF7pr4QI"
      }
    },
    {
      "cell_type": "code",
      "execution_count": 2,
      "metadata": {
        "id": "mBjWNquHIiE_",
        "colab": {
          "base_uri": "https://localhost:8080/"
        },
        "outputId": "e9969dd8-3083-4b16-eee6-e39522df3127"
      },
      "outputs": [
        {
          "output_type": "stream",
          "name": "stdout",
          "text": [
            "Type 'encode' to encrypt, type 'decode' to decrypt:\n",
            "encrypt\n",
            "Type your message:\n",
            "hello\n",
            "Type the shift number:\n",
            "5\n",
            "mjqqt\n"
          ]
        }
      ],
      "source": [
        "alphabet = ['a', 'b', 'c', 'd', 'e', 'f', 'g', 'h', 'i', 'j', 'k', 'l', 'm', 'n', 'o', 'p', 'q', 'r', 's', 't', 'u', 'v', 'w', 'x', 'y', 'z']\n",
        "\n",
        "direction = input(\"Type 'encode' to encrypt, type 'decode' to decrypt:\\n\")\n",
        "text = input(\"Type your message:\\n\").lower()\n",
        "shift = int(input(\"Type the shift number:\\n\"))\n",
        "\n",
        "#TODO-1: Create a function called 'encrypt' that takes the 'text' and 'shift' as inputs.\n",
        "if direction == \"encrypt\":\n",
        "  def encrypt(plain_text, shift_amount):\n",
        "    cipher_text = \"\"\n",
        "    for letter in plain_text:\n",
        "      position = alphabet.index(letter)\n",
        "      cipher_position = position + shift_amount\n",
        "      cipher_text += alphabet[cipher_position]\n",
        "    print(cipher_text)\n",
        "\n",
        "  encrypt(plain_text = text, shift_amount=shift)\n",
        "\n",
        "  #TODO-2: Inside the 'encrypt' function, shift each letter of the 'text' forwards in the alphabet by the shift amount and print the encrypted text.\n",
        "    #e.g.\n",
        "\n",
        "    #plain_text = \"hello\"\n",
        "    #shift = 5\n",
        "    #cipher_text = \"mjqqt\"\n",
        "    #print output: \"The encoded text is mjqqt\"\n",
        "\n",
        "    ##HINT: How do you get the index of an item in a list:\n",
        "    #https://stackoverflow.com/questions/176918/finding-the-index-of-an-item-in-a-list\n",
        "\n",
        "    ##🐛Bug alert: What happens if you try to encode the word 'civilization'?🐛\n",
        "\n",
        "#TODO-3: Call the encrypt function and pass in the user inputs. You should be able to test the code and encrypt a message.\n"
      ]
    },
    {
      "cell_type": "code",
      "source": [],
      "metadata": {
        "id": "EHHoYwTQMqX-"
      },
      "execution_count": null,
      "outputs": []
    }
  ]
}