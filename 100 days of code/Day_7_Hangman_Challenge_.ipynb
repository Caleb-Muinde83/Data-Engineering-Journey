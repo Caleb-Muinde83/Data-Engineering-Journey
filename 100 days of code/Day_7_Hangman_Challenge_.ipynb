{
  "nbformat": 4,
  "nbformat_minor": 0,
  "metadata": {
    "colab": {
      "provenance": []
    },
    "kernelspec": {
      "name": "python3",
      "display_name": "Python 3"
    },
    "language_info": {
      "name": "python"
    }
  },
  "cells": [
    {
      "cell_type": "markdown",
      "source": [
        "**TO DO 1**\n",
        "\n",
        "Breaking down the problem part 1\n",
        "- Get all user inputs"
      ],
      "metadata": {
        "id": "Qa1FsmatD5JS"
      }
    },
    {
      "cell_type": "code",
      "execution_count": 4,
      "metadata": {
        "colab": {
          "base_uri": "https://localhost:8080/"
        },
        "id": "aF_1AMhsn-w3",
        "outputId": "52cad363-5584-4f94-d996-df5dac41b329"
      },
      "outputs": [
        {
          "output_type": "stream",
          "name": "stdout",
          "text": [
            "Welocome to the hangman game!!!\n",
            "Think of a word and type it here: cow\n",
            "Enter the word clue: animal\n",
            "['c', 'o', 'w']\n",
            "You have 4 trials remaining\n",
            "suggest a letter you think is in the word: c\n",
            "0\n",
            "['c']\n",
            "suggest a letter you think is in the word: c\n",
            "1\n",
            "['c', 'c']\n",
            "suggest a letter you think is in the word: c\n",
            "2\n",
            "['c', 'c', 'c']\n",
            "suggest a letter you think is in the word: c\n",
            "3\n",
            "['c', 'c', 'c', 'c']\n",
            "suggest a letter you think is in the word: c\n",
            "4\n",
            "['c', 'c', 'c', 'c', 'c']\n",
            "suggest a letter you think is in the word: c\n",
            "5\n",
            "['c', 'c', 'c', 'c', 'c', 'c']\n"
          ]
        }
      ],
      "source": [
        "print(\"Welocome to the hangman game!!!\")\n",
        "set_word = input(\"Think of a word and type it here: \")\n",
        "word_clue = input(\"Enter the word clue: \")\n",
        "\n",
        "set_word_list = []\n",
        "\"\"\"for letter in set_word:\n",
        "  set_word_list.append(letter)\n",
        "  print(set_word_list)\"\"\"\n",
        "\n",
        "set_word_list = [letter for letter in set_word]\n",
        "print(set_word_list)\n",
        "\n",
        "trials = len(set_word_list) + 3\n",
        "\n",
        "print(f'You have {trials} trials remaining')\n",
        "\n",
        "suggested_letter_list = []\n",
        "length = len(suggested_letter_list)\n",
        "while length <= trials:\n",
        "  suggested_letter = input(\"suggest a letter you think is in the word: \")\n",
        "  length = len(suggested_letter_list)\n",
        "  print(length)\n",
        "  for letter in suggested_letter:\n",
        "    suggested_letter_list.append(letter)\n",
        "    print(suggested_letter_list)\n",
        ""
      ]
    },
    {
      "cell_type": "markdown",
      "source": [
        "**TO DO 2**\n",
        "- Set number of trials to length of the set word list + 3"
      ],
      "metadata": {
        "id": "4DNIBvroEDH3"
      }
    },
    {
      "cell_type": "code",
      "source": [
        "print(\"Welcome to the hangman game!!!\")\n",
        "set_word = input(\"Think of a word and type it here: \")\n",
        "word_clue = input(\"Enter the word clue: \")\n",
        "\n",
        "set_word_list = [letter for letter in set_word]\n",
        "print(set_word_list)\n",
        "\n",
        "trials = len(set_word_list) + 3\n",
        "\n",
        "print(f\"You have {trials} trials remaining\")\n",
        "\n",
        "suggested_letter_list = []\n",
        "length = 0\n",
        "while length < trials:\n",
        "    suggested_letter = input(\"Suggest a letter you think is in the word: \")\n",
        "    for letter in suggested_letter:\n",
        "        suggested_letter_list.append(letter)\n",
        "        print(suggested_letter_list)\n",
        "        length += 1\n",
        "\n",
        "    print(length)\n"
      ],
      "metadata": {
        "colab": {
          "base_uri": "https://localhost:8080/"
        },
        "id": "1dWhs-ljsoo0",
        "outputId": "6a2553b0-963a-46bc-a75f-8e685f1836a7"
      },
      "execution_count": 5,
      "outputs": [
        {
          "output_type": "stream",
          "name": "stdout",
          "text": [
            "Welcome to the hangman game!!!\n",
            "Think of a word and type it here: cow\n",
            "Enter the word clue: sdfbs\n",
            "['c', 'o', 'w']\n",
            "You have 6 trials remaining\n",
            "Suggest a letter you think is in the word: d\n",
            "['d']\n",
            "1\n",
            "Suggest a letter you think is in the word: d\n",
            "['d', 'd']\n",
            "2\n",
            "Suggest a letter you think is in the word: d\n",
            "['d', 'd', 'd']\n",
            "3\n",
            "Suggest a letter you think is in the word: d\n",
            "['d', 'd', 'd', 'd']\n",
            "4\n",
            "Suggest a letter you think is in the word: d\n",
            "['d', 'd', 'd', 'd', 'd']\n",
            "5\n",
            "Suggest a letter you think is in the word: d\n",
            "['d', 'd', 'd', 'd', 'd', 'd']\n",
            "6\n"
          ]
        }
      ]
    },
    {
      "cell_type": "markdown",
      "source": [
        "**TO DO 3**\n",
        "- Initialize the letter_test_list with underscores\n",
        "- Check if suggested letter is in the set word list\n",
        "- If the condition is true replace the ubderscore with the suggested letter.\n",
        "- If not ask user to guess another letter as long as the maximim number of trials is not exceeded."
      ],
      "metadata": {
        "id": "4zR7dHuhEvnf"
      }
    },
    {
      "cell_type": "code",
      "source": [
        "print(\"Welcome to the hangman game!!!\")\n",
        "set_word = input(\"Think of a word and type it here: \").lower()\n",
        "word_clue = input(\"Enter the word clue: \")\n",
        "\n",
        "set_word_list = [letter for letter in set_word]\n",
        "print(set_word_list)\n",
        "\n",
        "trials = len(set_word_list) + 3\n",
        "\n",
        "print(f\"You have {trials} trials remaining\")\n",
        "\n",
        "suggested_letter_list = []\n",
        "letter_test_list = [\"_\"] * len(set_word_list)  # Initialize with underscores\n",
        "\n",
        "while trials > 0:\n",
        "    suggested_letter = input(\"Suggest a letter you think is in the word: \").lower()\n",
        "\n",
        "    if suggested_letter in set_word_list:\n",
        "        for index, letter in enumerate(set_word_list):\n",
        "            if letter == suggested_letter:\n",
        "                letter_test_list[index] = suggested_letter\n",
        "        print(\"Correct guess!\")\n",
        "        print(letter_test_list)\n",
        "    else:\n",
        "        print(\"Incorrect guess!\")\n",
        "        trials -= 1\n",
        "\n",
        "    print(f\"You have {trials} trials remaining\")\n",
        "\n",
        "    if \"_\" not in letter_test_list:\n",
        "        print(\"Congratulations! You guessed the word correctly!\")\n",
        "        break\n",
        "\n",
        "print(\"Game over!\")\n"
      ],
      "metadata": {
        "colab": {
          "base_uri": "https://localhost:8080/"
        },
        "id": "4HzttzLK3XXR",
        "outputId": "1f9eb3bc-72f7-45e5-9fde-63886fb7eb0f"
      },
      "execution_count": 9,
      "outputs": [
        {
          "output_type": "stream",
          "name": "stdout",
          "text": [
            "Welcome to the hangman game!!!\n",
            "Think of a word and type it here: cow\n",
            "Enter the word clue: c\n",
            "['c', 'o', 'w']\n",
            "You have 6 trials remaining\n",
            "Suggest a letter you think is in the word: c\n",
            "Correct guess!\n",
            "['c', '_', '_']\n",
            "You have 6 trials remaining\n",
            "Suggest a letter you think is in the word: c\n",
            "Correct guess!\n",
            "['c', '_', '_']\n",
            "You have 6 trials remaining\n",
            "Suggest a letter you think is in the word: k\n",
            "Incorrect guess!\n",
            "You have 5 trials remaining\n",
            "Suggest a letter you think is in the word: i\n",
            "Incorrect guess!\n",
            "You have 4 trials remaining\n",
            "Suggest a letter you think is in the word: u\n",
            "Incorrect guess!\n",
            "You have 3 trials remaining\n",
            "Suggest a letter you think is in the word: u\n",
            "Incorrect guess!\n",
            "You have 2 trials remaining\n",
            "Suggest a letter you think is in the word: i\n",
            "Incorrect guess!\n",
            "You have 1 trials remaining\n",
            "Suggest a letter you think is in the word: u\n",
            "Incorrect guess!\n",
            "You have 0 trials remaining\n",
            "Game over!\n"
          ]
        }
      ]
    },
    {
      "cell_type": "markdown",
      "source": [
        "**TO DO 4**\n",
        "- Catch repetition of suggested letters."
      ],
      "metadata": {
        "id": "-pyTcj-uGS3P"
      }
    },
    {
      "cell_type": "code",
      "source": [
        "print(\"Welcome to the hangman game!!!\")\n",
        "set_word = input(\"Think of a word and type it here: \").lower()\n",
        "word_clue = input(\"Enter the word clue: \")\n",
        "\n",
        "set_word_list = [letter for letter in set_word]\n",
        "print(set_word_list)\n",
        "\n",
        "trials = len(set_word_list) + 3\n",
        "\n",
        "print(f\"You have {trials} trials remaining\")\n",
        "\n",
        "suggested_letter_list = []\n",
        "letter_test_list = [\"_\"] * len(set_word_list)  # Initialize with underscores\n",
        "\n",
        "while trials > 0:\n",
        "    suggested_letter = input(\"Suggest a letter you think is in the word: \").lower()\n",
        "\n",
        "    if suggested_letter in suggested_letter_list:\n",
        "        print(\"You have already guessed that letter. Try again.\")\n",
        "        continue  # Skip the rest of the loop and prompt for input again\n",
        "\n",
        "    if suggested_letter in set_word_list:\n",
        "        for index, letter in enumerate(set_word_list):\n",
        "            if letter == suggested_letter:\n",
        "                letter_test_list[index] = suggested_letter\n",
        "        print(\"Correct guess!\")\n",
        "        print(letter_test_list)\n",
        "    else:\n",
        "        print(\"Incorrect guess!\")\n",
        "        trials -= 1\n",
        "\n",
        "    suggested_letter_list.append(suggested_letter)  # Add the guessed letter to the list\n",
        "\n",
        "    print(f\"You have {trials} trials remaining\")\n",
        "\n",
        "    if \"_\" not in letter_test_list:\n",
        "        print(\"Congratulations! You guessed the word correctly!\")\n",
        "        break\n",
        "\n",
        "print(\"Game over!\")\n"
      ],
      "metadata": {
        "colab": {
          "base_uri": "https://localhost:8080/"
        },
        "id": "NfKVFmid-Wu8",
        "outputId": "271ece1e-d076-4531-9ca7-f9b3bf42e582"
      },
      "execution_count": 11,
      "outputs": [
        {
          "output_type": "stream",
          "name": "stdout",
          "text": [
            "Welcome to the hangman game!!!\n",
            "Think of a word and type it here: Cow\n",
            "Enter the word clue: c\n",
            "['c', 'o', 'w']\n",
            "You have 6 trials remaining\n",
            "Suggest a letter you think is in the word: c\n",
            "Correct guess!\n",
            "['c', '_', '_']\n",
            "You have 6 trials remaining\n",
            "Suggest a letter you think is in the word: c\n",
            "You have already guessed that letter. Try again.\n",
            "Suggest a letter you think is in the word: e\n",
            "Incorrect guess!\n",
            "You have 5 trials remaining\n",
            "Suggest a letter you think is in the word: o\n",
            "Correct guess!\n",
            "['c', 'o', '_']\n",
            "You have 5 trials remaining\n",
            "Suggest a letter you think is in the word: w\n",
            "Correct guess!\n",
            "['c', 'o', 'w']\n",
            "You have 5 trials remaining\n",
            "Congratulations! You guessed the word correctly!\n",
            "Game over!\n"
          ]
        }
      ]
    },
    {
      "cell_type": "markdown",
      "source": [
        "**Bellow is the instructor code**"
      ],
      "metadata": {
        "id": "K8RYCZ1uB65g"
      }
    },
    {
      "cell_type": "code",
      "source": [
        "#Step 5\n",
        "\n",
        "import random\n",
        "\n",
        "#TODO-1: - the word list\n",
        "word_list = [\"camel\"]\n",
        "\n",
        "\n",
        "chosen_word = random.choice(word_list)\n",
        "word_length = len(chosen_word)\n",
        "\n",
        "end_of_game = False\n",
        "lives = 6\n",
        "\n",
        "#TODO-3: -\n",
        "\n",
        "\n",
        "#Testing code\n",
        "# print(f'Pssst, the solution is {chosen_word}.')\n",
        "\n",
        "#Create blanks\n",
        "display = []\n",
        "for _ in range(word_length):\n",
        "    display += \"_\"\n",
        "\n",
        "while not end_of_game:\n",
        "    guess = input(\"Guess a letter: \").lower()\n",
        "\n",
        "    #TODO-4: - If the user has entered a letter they've already guessed, print the letter and let them know.\n",
        "    if guess in display:\n",
        "        print(f\"You've already guessed {guess}\")\n",
        "\n",
        "    #Check guessed letter\n",
        "    for position in range(word_length):\n",
        "        letter = chosen_word[position]\n",
        "        #print(f\"Current position: {position}\\n Current letter: {letter}\\n Guessed letter: {guess}\")\n",
        "        if letter == guess:\n",
        "            display[position] = letter\n",
        "\n",
        "    #Check if user is wrong.\n",
        "    if guess not in chosen_word:\n",
        "        #TODO-5: - If the letter is not in the chosen_word, print out the letter and let them know it's not in the word.\n",
        "        print(f\"You guessed {guess}, that's not in the word. You lose a life.\")\n",
        "\n",
        "        lives -= 1\n",
        "        if lives == 0:\n",
        "            end_of_game = True\n",
        "            print(\"You lose.\")\n",
        "\n",
        "    #Join all the elements in the list and turn it into a String.\n",
        "    print(f\"{' '.join(display)}\")\n",
        "\n",
        "    #Check if user has got all letters.\n",
        "    if \"_\" not in display:\n",
        "        end_of_game = True\n",
        "        print(\"You win.\")\n",
        "\n",
        "    #TODO-2: - Import the stages from hangman_art.py and make this error go away.ee"
      ],
      "metadata": {
        "colab": {
          "base_uri": "https://localhost:8080/"
        },
        "id": "goxFiRDb_CdJ",
        "outputId": "10b40111-11a0-45e8-ab1d-9e8ce265d785"
      },
      "execution_count": 17,
      "outputs": [
        {
          "output_type": "stream",
          "name": "stdout",
          "text": [
            "Guess a letter: c\n",
            "c _ _ _ _\n",
            "Guess a letter: a\n",
            "c a _ _ _\n",
            "Guess a letter: m\n",
            "c a m _ _\n",
            "Guess a letter: e\n",
            "c a m e _\n",
            "Guess a letter: l\n",
            "c a m e l\n",
            "You win.\n"
          ]
        }
      ]
    },
    {
      "cell_type": "code",
      "source": [],
      "metadata": {
        "id": "E-Q0Uq_0DgjU"
      },
      "execution_count": null,
      "outputs": []
    }
  ]
}