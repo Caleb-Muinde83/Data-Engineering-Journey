{
  "nbformat": 4,
  "nbformat_minor": 0,
  "metadata": {
    "colab": {
      "provenance": []
    },
    "kernelspec": {
      "name": "python3",
      "display_name": "Python 3"
    },
    "language_info": {
      "name": "python"
    }
  },
  "cells": [
    {
      "cell_type": "markdown",
      "source": [
        "list"
      ],
      "metadata": {
        "id": "H6ZDgrzDSLm3"
      }
    },
    {
      "cell_type": "code",
      "source": [
        "list = [\"word\", \"word2\", \"word3\"]\n",
        "print(list[0])"
      ],
      "metadata": {
        "colab": {
          "base_uri": "https://localhost:8080/"
        },
        "id": "Uh7y1TIWR9lc",
        "outputId": "b67f0abd-e9ed-454b-9a7e-f0ad5d182e0c"
      },
      "execution_count": null,
      "outputs": [
        {
          "output_type": "stream",
          "name": "stdout",
          "text": [
            "word\n"
          ]
        }
      ]
    },
    {
      "cell_type": "markdown",
      "source": [
        "Dictionary"
      ],
      "metadata": {
        "id": "J-aoTHxtSNmb"
      }
    },
    {
      "cell_type": "code",
      "execution_count": null,
      "metadata": {
        "colab": {
          "base_uri": "https://localhost:8080/"
        },
        "id": "UfwWemf8K_ir",
        "outputId": "d1bf4305-d882-4f14-f9be-424dfaf0d4dd"
      },
      "outputs": [
        {
          "output_type": "stream",
          "name": "stdout",
          "text": [
            "definition of the word\n",
            "{'word': 'definition of the word', 'word2': 'definition 2', 'word3': 'definition 3', 'word4': 'description of the 4th word'}\n",
            "modified definatiopn\n"
          ]
        }
      ],
      "source": [
        "dictionary = {\n",
        "    \"word\": \"definition of the word\",\n",
        "    \"word2\": \"definition 2\",\n",
        "    \"word3\": \"definition 3\"\n",
        "    }\n",
        "print(dictionary[\"word\"])\n",
        "# ading a new item\n",
        "dictionary[\"word4\"] = \"description of the 4th word\"\n",
        "print(dictionary)\n",
        "dictionary[\"word\"] = \"modified definatiopn\" #modify a dictionary\n",
        "print(dictionary[\"word\"])"
      ]
    },
    {
      "cell_type": "code",
      "source": [
        "#for loop\n",
        "for key in dictionary:\n",
        "  print(key)\n",
        "  print(dictionary[key])\n"
      ],
      "metadata": {
        "colab": {
          "base_uri": "https://localhost:8080/"
        },
        "id": "D6Xa_qbMR8lh",
        "outputId": "6ff3dd90-7784-424a-bc47-50eb81b89642"
      },
      "execution_count": null,
      "outputs": [
        {
          "output_type": "stream",
          "name": "stdout",
          "text": [
            "word\n",
            "modified definatiopn\n",
            "word2\n",
            "definition 2\n",
            "word3\n",
            "definition 3\n",
            "word4\n",
            "description of the 4th word\n"
          ]
        }
      ]
    },
    {
      "cell_type": "markdown",
      "source": [
        "**day-9-1-exercise**"
      ],
      "metadata": {
        "id": "HBhk1RB-UVlS"
      }
    },
    {
      "cell_type": "code",
      "source": [
        "student_scores = {\n",
        "  \"Harry\": 81,\n",
        "  \"Ron\": 78,\n",
        "  \"Hermione\": 99,\n",
        "  \"Draco\": 74,\n",
        "  \"Neville\": 62,\n",
        "}\n",
        "# 🚨 Don't change the code above 👆\n",
        "\n",
        "#TODO-1: Create an empty dictionary called student_grades.\n",
        "student_grades ={}\n",
        "\n",
        "#TODO-2: Write your code below to add the grades to student_grades.👇\n",
        "for student in student_scores:\n",
        "  score = student_scores[student]\n",
        "  print(score)\n",
        "  if score > 90:\n",
        "    student_grades[student] = \"very good\"\n",
        "  elif score > 80:\n",
        "    student_scores[student] = \"Good\"\n",
        "  elif score > 70:\n",
        "    student_grades[student] = \"You tried\"\n",
        "  elif score > 60:\n",
        "    student_grades[student] = \"Work harder\"\n",
        "  else:\n",
        "    student_grades[student] = \"You failed\"\n",
        "\n",
        "\n",
        "\n",
        "\n",
        "# 🚨 Don't change the code below 👇\n",
        "print(student_grades)\n"
      ],
      "metadata": {
        "colab": {
          "base_uri": "https://localhost:8080/"
        },
        "id": "JlcfkUReTlY7",
        "outputId": "b773abe5-3a32-413a-ede2-6850ce47564a"
      },
      "execution_count": null,
      "outputs": [
        {
          "output_type": "stream",
          "name": "stdout",
          "text": [
            "81\n",
            "78\n",
            "99\n",
            "74\n",
            "62\n",
            "{'Ron': 'You tried', 'Hermione': 'very good', 'Draco': 'You tried', 'Neville': 'Work harder'}\n"
          ]
        }
      ]
    },
    {
      "cell_type": "markdown",
      "source": [
        "**Nesting Lists and Dictionaries**"
      ],
      "metadata": {
        "id": "GCnfGhDSaOpQ"
      }
    },
    {
      "cell_type": "code",
      "source": [
        "nested_dictionary = {\n",
        "    key: [list],\n",
        "    key2: {dictionary}\n",
        "}"
      ],
      "metadata": {
        "id": "r_AOgXWDWmBP"
      },
      "execution_count": null,
      "outputs": []
    },
    {
      "cell_type": "code",
      "source": [
        "#Nesting\n",
        "capitals = {\n",
        "    \"france\": \"Paris\",\n",
        "    \"German\": \"Berlin\"\n",
        "}\n",
        "#Nest a list in a dictionary\n",
        "travel_log = {\n",
        "    \"france\": [\"Paris\", \"Lyon\", \"Lille\", \"Dijon\"],\n",
        "    \"German\": [\"Berlin\", \"Stuttgart\", \"Marseille\"]\n",
        "}\n",
        "#Nesting a list in a list\n",
        "travel_log = [\n",
        "    [\"Paris\", \"Lyon\", \"Lille\", \"Dijon\"],\n",
        "    [\"Berlin\", \"Stuttgart\", \"Marseille\"]\n",
        "]\n",
        "#Nesting a dictionary in a dictionary\n",
        "travel_log = {\n",
        "    \"france\": {\"Paris\": 2, \"Lyon\": 3, \"Lille\": 4, \"Dijon\": 3,},\n",
        "    \"German\": {\"Berlin\": 1, \"Stuttgart\": 5, \"Marseille\": 0}\n",
        "}\n",
        "#nesting dictionaries inside a list\n",
        "\n",
        "sample_nest = [{\n",
        "    \"key_0\": [\"item1\", \"Item2\"],\n",
        "    \"key_1\": {\"Dict\": \"value 1\"}\n",
        "    },\n",
        "     {\n",
        "        \"key_3\": {\"Dict\": \"value 1\"},\n",
        "        \"key_4\": [\"item1\", \"Item2\"],\n",
        "     }]\n",
        "\n",
        "print(f'#nesting dictionaries inside a list {sample_nest}')"
      ],
      "metadata": {
        "colab": {
          "base_uri": "https://localhost:8080/"
        },
        "id": "uKMoL0ySbDjr",
        "outputId": "66c96418-5796-4efe-d451-16cb487ab58d"
      },
      "execution_count": null,
      "outputs": [
        {
          "output_type": "stream",
          "name": "stdout",
          "text": [
            "#nesting dictionaries inside a list [{'key_0': ['item1', 'Item2'], 'key_1': {'Dict': 'value 1'}}, {'key_3': {'Dict': 'value 1'}, 'key_4': ['item1', 'Item2']}]\n"
          ]
        }
      ]
    },
    {
      "cell_type": "code",
      "source": [
        "travel_log = [\n",
        "    {\n",
        "        \"Country\": \"France\",\n",
        "        \"Cities_viseted\": [\"Paris\", \"Lyon\", \"Lille\", \"Dijon\"],\n",
        "        \"total_visits\": 12\n",
        "    },\n",
        "     {\n",
        "        \"Country\": \"German\",\n",
        "        \"Cities-visited\": [\"Berlin\", \"Stuttgart\", \"Marseille\"],\n",
        "        \"Total_visits\": 5\n",
        "     }\n",
        "]\n",
        "\n",
        "print(travel_log[0])\n",
        "print(travel_log[1])\n",
        "print(travel_log)"
      ],
      "metadata": {
        "colab": {
          "base_uri": "https://localhost:8080/"
        },
        "id": "Eguwtc7nfiKc",
        "outputId": "54a6df35-386d-4ec4-aeb5-9b7c2d8f4432"
      },
      "execution_count": null,
      "outputs": [
        {
          "output_type": "stream",
          "name": "stdout",
          "text": [
            "{'Country': 'France', 'Cities_viseted': ['Paris', 'Lyon', 'Lille', 'Dijon'], 'total_visits': 12}\n",
            "{'Country': 'German', 'Cities-visited': ['Berlin', 'Stuttgart', 'Marseille'], 'Total_visits': 5}\n",
            "[{'Country': 'France', 'Cities_viseted': ['Paris', 'Lyon', 'Lille', 'Dijon'], 'total_visits': 12}, {'Country': 'German', 'Cities-visited': ['Berlin', 'Stuttgart', 'Marseille'], 'Total_visits': 5}]\n"
          ]
        }
      ]
    },
    {
      "cell_type": "code",
      "source": [
        "travel_log = [\n",
        "{\n",
        "  \"country\": \"France\",\n",
        "  \"visits\": 12,\n",
        "  \"cities\": [\"Paris\", \"Lille\", \"Dijon\"]\n",
        "},\n",
        "{\n",
        "  \"country\": \"Germany\",\n",
        "  \"visits\": 5,\n",
        "  \"cities\": [\"Berlin\", \"Hamburg\", \"Stuttgart\"]\n",
        "},\n",
        "]\n",
        "#🚨 Do NOT change the code above\n",
        "\n",
        "#TODO: Write the function that will allow new countries\n",
        "#to be added to the travel_log. 👇\n",
        "def add_new_country(countries_visited, times_visited, cities_visited):\n",
        "  new_country = {}\n",
        "  new_country[\"country\"] = countries_visited\n",
        "  new_country[\"visits\"] = times_visited\n",
        "  new_country[\"cities\"] = cities_visited\n",
        "  travel_log.append(new_country)\n",
        "\n",
        "#🚨 Do not change the code below\n",
        "add_new_country(\"Russia\", 2, [\"Moscow\", \"Saint Petersburg\"])\n",
        "print(travel_log)\n",
        "\n",
        "\n",
        "\n"
      ],
      "metadata": {
        "colab": {
          "base_uri": "https://localhost:8080/"
        },
        "id": "IuHe7vAljWHv",
        "outputId": "35bebd60-fe96-414a-efbf-698704f43943"
      },
      "execution_count": 6,
      "outputs": [
        {
          "output_type": "stream",
          "name": "stdout",
          "text": [
            "[{'country': 'France', 'visits': 12, 'cities': ['Paris', 'Lille', 'Dijon']}, {'country': 'Germany', 'visits': 5, 'cities': ['Berlin', 'Hamburg', 'Stuttgart']}, {'country': 'Russia', 'visits': 2, 'cities': ['Moscow', 'Saint Petersburg']}]\n"
          ]
        }
      ]
    },
    {
      "cell_type": "code",
      "source": [
        "print(\"Welcome to the bidding program\")\n",
        "name = str(input(\"Enter name of the bidder: \\n\")).lower()\n",
        "bid_price = int(input(\"Enter your bidding price: \\n\"))\n",
        "bids = {}\n",
        "next_bidder = str(input(\"Is there another bidder? Type 'Yes' to continue or 'No' to get the bid winner: \\n\")).lower()\n",
        "\n",
        "if next_bidder == \"yes\":\n",
        "    def add_bidder(bidder_name, bidding_value):\n",
        "        new_bidder = {}\n",
        "        new_bidder[\"name\"] = bidder_name\n",
        "        new_bidder[\"bid_price\"] = bidding_value\n",
        "        bids[name] = bid_price\n",
        "\n",
        "    add_bidder(bidder_name=name, bidding_value=bid_price)\n",
        "\n",
        "elif next_bidder == \"no\":\n",
        "    def get_winner(bids):\n",
        "        max_value = float('-inf')\n",
        "        max_key = None\n",
        "\n",
        "        for key, value in bids.items():\n",
        "            if value > max_value:\n",
        "                max_value = value\n",
        "                max_key = key\n",
        "\n",
        "        print(f\"The winner is {max_key} with a bid worth {max_value} Ksh.\")\n",
        "    get_winner(bids)\n",
        "\n",
        "else:\n",
        "    print(\"Enter 'yes' or 'no'\")\n"
      ],
      "metadata": {
        "id": "FBmbIAXrmxyG",
        "colab": {
          "base_uri": "https://localhost:8080/"
        },
        "outputId": "3da930bb-af24-4699-ea40-47e302866f8e"
      },
      "execution_count": 13,
      "outputs": [
        {
          "name": "stdout",
          "output_type": "stream",
          "text": [
            "Welcome to the bidding program\n",
            "Enter the name of the bidder: \n",
            "gdndg\n",
            "Enter your bidding price: \n",
            "7\n",
            "Is there another bidder? Type 'Yes' to continue or 'No' to get the bid winner: \n",
            "yes\n"
          ]
        }
      ]
    },
    {
      "cell_type": "code",
      "source": [
        "bids = {}\n",
        "bidding_finished = False\n",
        "\n",
        "def find_highest_bidder(bidding_record):\n",
        "  highest_bid = 0\n",
        "  winner = \"\"\n",
        "  # bidding_record = {\"Angela\": 123, \"James\": 321}\n",
        "  for bidder in bidding_record:\n",
        "    bid_amount = bidding_record[bidder]\n",
        "    if bid_amount > highest_bid:\n",
        "      highest_bid = bid_amount\n",
        "      winner = bidder\n",
        "  print(f\"The winner is {winner} with a bid of ${highest_bid}\")\n",
        "\n",
        "while not bidding_finished:\n",
        "  name = input(\"What is your name?: \")\n",
        "  price = int(input(\"What is your bid?: $\"))\n",
        "  bids[name] = price\n",
        "  should_continue = input(\"Are there any other bidders? Type 'yes or 'no'.\\n\")\n",
        "  if should_continue == \"no\":\n",
        "    bidding_finished = True\n",
        "    find_highest_bidder(bids)\n",
        "  elif should_continue == \"yes\":\n",
        "    clear()\n",
        "\n",
        "\n",
        "\"\"\"\n",
        "FAQ: My console doesn't clear()\n",
        "\n",
        "This will happen if you’re using an IDE other than replit.\n",
        "I’ll cover how to use PyCharm in Day 15. That said, you can write your own clear() function or configure your IDE like so:\n",
        "\n",
        "https://www.udemy.com/course/100-days-of-code/learn/lecture/19279420#questions/16084076\n",
        "\n",
        "\"\"\""
      ],
      "metadata": {
        "id": "GNBw0F_e9Z5i"
      },
      "execution_count": null,
      "outputs": []
    },
    {
      "cell_type": "code",
      "source": [
        "print(\"Welcome to the bidding program\")\n",
        "bids = {}\n",
        "\n",
        "while True:\n",
        "    name = str(input(\"Enter name of the bidder: \\n\")).lower()\n",
        "    bid_price = int(input(\"Enter your bidding price: \\n\"))\n",
        "    bids[name] = bid_price\n",
        "\n",
        "    next_bidder = str(input(\"Is there another bidder? Type 'Yes' to continue or 'No' to get the bid winner: \\n\")).lower()\n",
        "\n",
        "    if next_bidder == \"no\":\n",
        "        def get_winner(bids):\n",
        "            max_value = float('-inf')\n",
        "            max_key = None\n",
        "\n",
        "            for key, value in bids.items():\n",
        "                if value > max_value:\n",
        "                    max_value = value\n",
        "                    max_key = key\n",
        "\n",
        "            print(f\"The winner is {max_key} with a bid worth Ksh. {max_value}\")\n",
        "        get_winner(bids)\n",
        "        break\n",
        "\n",
        "    elif next_bidder != \"yes\":\n",
        "        print(\"Enter 'yes' or 'no'\")\n",
        "        break\n"
      ],
      "metadata": {
        "colab": {
          "base_uri": "https://localhost:8080/"
        },
        "id": "DGiDOQh6_A56",
        "outputId": "cdbf7820-4fe1-4d77-9d8d-7c39cf70fe41"
      },
      "execution_count": 14,
      "outputs": [
        {
          "output_type": "stream",
          "name": "stdout",
          "text": [
            "Welcome to the bidding program\n",
            "Enter name of the bidder: \n",
            "caleb\n",
            "Enter your bidding price: \n",
            "150\n",
            "Is there another bidder? Type 'Yes' to continue or 'No' to get the bid winner: \n",
            "yes\n",
            "Enter name of the bidder: \n",
            "cavo\n",
            "Enter your bidding price: \n",
            "500\n",
            "Is there another bidder? Type 'Yes' to continue or 'No' to get the bid winner: \n",
            "yes\n",
            "Enter name of the bidder: \n",
            "ghveduk\n",
            "Enter your bidding price: \n",
            "300\n",
            "Is there another bidder? Type 'Yes' to continue or 'No' to get the bid winner: \n",
            "no\n",
            "The winner is cavo with a bid worth Ksh. 500\n"
          ]
        }
      ]
    }
  ]
}