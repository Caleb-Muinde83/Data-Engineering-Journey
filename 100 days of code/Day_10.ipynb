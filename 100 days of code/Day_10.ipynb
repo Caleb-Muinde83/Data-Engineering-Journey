{
  "nbformat": 4,
  "nbformat_minor": 0,
  "metadata": {
    "colab": {
      "provenance": []
    },
    "kernelspec": {
      "name": "python3",
      "display_name": "Python 3"
    },
    "language_info": {
      "name": "python"
    }
  },
  "cells": [
    {
      "cell_type": "code",
      "execution_count": null,
      "metadata": {
        "colab": {
          "base_uri": "https://localhost:8080/"
        },
        "id": "3bwUNFFYt5tJ",
        "outputId": "bb3a8975-4c54-4cf3-ba34-12296da0bcb3"
      },
      "outputs": [
        {
          "output_type": "stream",
          "name": "stdout",
          "text": [
            "6\n"
          ]
        }
      ],
      "source": [
        "#Functions wit outputs\n",
        "def my_function():\n",
        "  return 3*2\n",
        "\n",
        "output = my_function()\n",
        "print(output)"
      ]
    },
    {
      "cell_type": "code",
      "source": [
        "def format_name(f_name, l_name):\n",
        "  formated_f_name = f_name.title()\n",
        "  formated_l_name = l_name.title()\n",
        "  return f\"{formated_f_name} {formated_l_name}\"\n",
        "\n",
        "formated_string = format_name(\"Caleb\", \"MuInde\")\n",
        "print(formated_string)\n"
      ],
      "metadata": {
        "colab": {
          "base_uri": "https://localhost:8080/"
        },
        "id": "MOeIHwUKvKU9",
        "outputId": "69692790-b66b-4333-dab8-050b28a64efa"
      },
      "execution_count": null,
      "outputs": [
        {
          "output_type": "stream",
          "name": "stdout",
          "text": [
            "Caleb Muinde\n"
          ]
        }
      ]
    },
    {
      "cell_type": "code",
      "source": [
        "#multiple return values\n",
        "def format_name(f_name, l_name):\n",
        "  if f_name == \"\" or l_name == \"\":\n",
        "    return \"You did not provide a valid input.\"\n",
        "  formated_f_name = f_name.title()\n",
        "  formated_l_name = l_name.title()\n",
        "  return f\"{formated_f_name} {formated_l_name}\"\n",
        "\n",
        "print(format_name(input(\"What is your first name?\"), input(\"What id your last name?\")))\n"
      ],
      "metadata": {
        "colab": {
          "base_uri": "https://localhost:8080/"
        },
        "id": "l6iqS1y0w45t",
        "outputId": "94f7420e-820c-475a-d2c6-7264ec7632c6"
      },
      "execution_count": null,
      "outputs": [
        {
          "output_type": "stream",
          "name": "stdout",
          "text": [
            "What is your first name?ngjxfjnfyj\n",
            "What id your last name?htdhted\n",
            "Ngjxfjnfyj Htdhted\n"
          ]
        }
      ]
    },
    {
      "cell_type": "code",
      "source": [
        "def is_leap(year):\n",
        "  if year % 4 == 0:\n",
        "    if year % 100 == 0:\n",
        "      if year % 400 == 0:\n",
        "        return True\n",
        "      else:\n",
        "        return False\n",
        "    else:\n",
        "      return True\n",
        "  else:\n",
        "    return False\n",
        "\n",
        "def days_in_month(year, month):\n",
        "  month_days = [31,28,31,30,31,30,31,31,30,31,30,31]\n",
        "  if is_leap(year) and month == 2:\n",
        "    return 29\n",
        "  return month_days[month - 1]\n",
        "\n",
        "\n",
        "year = int(input(\"Enter a year: \"))\n",
        "month = int(input(\"Enter a month: \"))\n",
        "days = days_in_month(year, month)\n",
        "print(days)"
      ],
      "metadata": {
        "colab": {
          "base_uri": "https://localhost:8080/"
        },
        "id": "6_ZTKPMCVWGE",
        "outputId": "83043810-7690-4b95-c06d-4f74938546aa"
      },
      "execution_count": null,
      "outputs": [
        {
          "output_type": "stream",
          "name": "stdout",
          "text": [
            "Enter a year: 2021\n",
            "Enter a month: 1\n",
            "31\n"
          ]
        }
      ]
    },
    {
      "cell_type": "code",
      "source": [
        "#Calculator\n",
        "#Add\n",
        "def add(n1, n2):\n",
        "  return n1 + n2\n",
        "\n",
        "#Subtract\n",
        "def subtract(n1, n2):\n",
        "  return n1 - n2\n",
        "\n",
        "#Multiply\n",
        "def multiply(n1, n2):\n",
        "  return n1 * n2\n",
        "\n",
        "#Divide\n",
        "def divide(n1, n2):\n",
        "  return n1 / n2\n",
        "\n",
        "#Dictionary of operators\n",
        "operators = {\n",
        "    \"+\": add,\n",
        "    \"-\": subtract,\n",
        "    \"*\": multiply,\n",
        "    \"/\": divide\n",
        "}\n",
        "\n",
        "def calculator():\n",
        "  #User input\n",
        "  num1 = int(input(\"Enter the first number: \"))\n",
        "\n",
        "  \"\"\"for key, operator in operators.items():\n",
        "    print(key)\"\"\"\n",
        "\n",
        "  for symbol in operators:\n",
        "    print(symbol)\n",
        "\n",
        "  calculating = True\n",
        "\n",
        "  while calculating:\n",
        "    funtion = input(\"Chose a symbol from the above: \")\n",
        "    num2 = int(input(\"Enter the second number: \"))\n",
        "\n",
        "    compute = operators[funtion]\n",
        "    answer = compute(num1, num2)\n",
        "    print(f\"{num1} {funtion} {num2} = {answer}\")\n",
        "\n",
        "    done = input(\"Enter Y to continue or N to start a new calculation: \")\n",
        "    if done == \"Y\":\n",
        "      num1 = answer\n",
        "    else:\n",
        "      calculating = False\n",
        "      clear()\n",
        "      calculator()\n",
        "\n",
        "calculator()\n",
        "\n"
      ],
      "metadata": {
        "id": "VF0u7j0VqPiC"
      },
      "execution_count": null,
      "outputs": []
    },
    {
      "cell_type": "code",
      "source": [
        "#Calculator\n",
        "#Add\n",
        "def add(n1, n2):\n",
        "  return n1 + n2\n",
        "\n",
        "#Subtract\n",
        "def subtract(n1, n2):\n",
        "  return n1 - n2\n",
        "\n",
        "#Multiply\n",
        "def multiply(n1, n2):\n",
        "  return n1 * n2\n",
        "\n",
        "#Divide\n",
        "def divide(n1, n2):\n",
        "  return n1 / n2\n",
        "\n",
        "#Dictionary of operators\n",
        "operators = {\n",
        "    \"+\": add,\n",
        "    \"-\": subtract,\n",
        "    \"*\": multiply,\n",
        "    \"/\": divide\n",
        "}\n",
        "\n",
        "#User input\n",
        "\n",
        "\n",
        "\"\"\"for key, operator in operators.items():\n",
        "  print(key)\"\"\"\n",
        "\n",
        "calculating = True\n",
        "\n",
        "while calculating:\n",
        "  num1 = int(input(\"Enter the first number: \"))\n",
        "  for symbol in operators:\n",
        "    print(symbol)\n",
        "  funtion = input(\"Chose a symbol from the above: \")\n",
        "  num2 = int(input(\"Enter the second number: \"))\n",
        "\n",
        "  compute = operators[funtion]\n",
        "  answer = compute(num1, num2)\n",
        "  print(f\"{num1} {funtion} {num2} = {answer}\")\n",
        "\n",
        "  done = input(\"Enter Y to continue or N to exit\")\n",
        "  if done == \"N\":\n",
        "    calculating = False\n",
        "    exit\n",
        "\n"
      ],
      "metadata": {
        "id": "GCvTfO7-0JHg"
      },
      "execution_count": null,
      "outputs": []
    },
    {
      "cell_type": "code",
      "source": [
        "# Calculator\n",
        "# Add\n",
        "def add(n1, n2):\n",
        "    return n1 + n2\n",
        "\n",
        "# Subtract\n",
        "def subtract(n1, n2):\n",
        "    return n1 - n2\n",
        "\n",
        "# Multiply\n",
        "def multiply(n1, n2):\n",
        "    return n1 * n2\n",
        "\n",
        "# Divide\n",
        "def divide(n1, n2):\n",
        "    return n1 / n2\n",
        "\n",
        "# Dictionary of operators\n",
        "operators = {\n",
        "    \"+\": add,\n",
        "    \"-\": subtract,\n",
        "    \"*\": multiply,\n",
        "    \"/\": divide\n",
        "}\n",
        "\n",
        "def calculator():\n",
        "    while True:\n",
        "        # User input\n",
        "        num1 = float(input(\"Enter the first number: \"))\n",
        "\n",
        "        print(\"Available operators:\")\n",
        "        for symbol in operators:\n",
        "            print(symbol)\n",
        "\n",
        "        operator = input(\"Choose an operator from the above (or type 'E' to exit): \")\n",
        "\n",
        "        if operator == 'E':\n",
        "            print(\"Exiting the calculator.\")\n",
        "            break\n",
        "\n",
        "        if operator not in operators:\n",
        "            print(\"Invalid operator. Please choose from the available operators.\")\n",
        "            continue\n",
        "\n",
        "        num2 = float(input(\"Enter the second number: \"))\n",
        "\n",
        "        compute = operators[operator]\n",
        "        answer = compute(num1, num2)\n",
        "        print(f\"{num1} {operator} {num2} = {answer}\")\n",
        "\n",
        "calculator()\n"
      ],
      "metadata": {
        "id": "EirMrEZjvYCb"
      },
      "execution_count": null,
      "outputs": []
    },
    {
      "cell_type": "code",
      "source": [
        "from replit import clear\n",
        "from art import logo\n",
        "\n",
        "def add(n1, n2):\n",
        "    return n1 + n2\n",
        "\n",
        "def subtract(n1, n2):\n",
        "    return n1 - n2\n",
        "\n",
        "def multiply(n1, n2):\n",
        "    return n1 * n2\n",
        "\n",
        "def divide(n1, n2):\n",
        "    return n1 / n2\n",
        "\n",
        "operations = {\n",
        "    \"+\": add,\n",
        "    \"-\": subtract,\n",
        "    \"*\": multiply,\n",
        "    \"/\": divide\n",
        "}\n",
        "\n",
        "def calculator():\n",
        "    print(logo)\n",
        "\n",
        "    num1 = float(input(\"What's the first number?: \"))\n",
        "    for symbol in operations:\n",
        "        print(symbol)\n",
        "    should_continue = True\n",
        "\n",
        "    while should_continue:\n",
        "        operation_symbol = input(\"Pick an operation (or type 'E' to exit): \")\n",
        "        if operation_symbol == 'E':\n",
        "            print(\"Exiting the calculator.\")\n",
        "            break\n",
        "\n",
        "        if operation_symbol not in operations:\n",
        "            print(\"Invalid operation symbol. Please choose a valid operation or 'E' to exit.\")\n",
        "            continue\n",
        "\n",
        "        num2 = float(input(\"What's the next number?: \"))\n",
        "        calculation_function = operations[operation_symbol]\n",
        "        answer = calculation_function(num1, num2)\n",
        "        print(f\"{num1} {operation_symbol} {num2} = {answer}\")\n",
        "\n",
        "        if input(f\"Type 'y' to continue calculating with {answer}, or type 'n' to start a new calculation: \") != 'y':\n",
        "            should_continue = False\n",
        "            clear()\n",
        "            calculator()\n",
        "\n",
        "calculator()\n"
      ],
      "metadata": {
        "id": "fC_k1dFowXCe"
      },
      "execution_count": null,
      "outputs": []
    }
  ]
}