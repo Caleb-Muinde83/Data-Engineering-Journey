{
  "nbformat": 4,
  "nbformat_minor": 0,
  "metadata": {
    "colab": {
      "provenance": []
    },
    "kernelspec": {
      "name": "python3",
      "display_name": "Python 3"
    },
    "language_info": {
      "name": "python"
    }
  },
  "cells": [
    {
      "cell_type": "code",
      "execution_count": 2,
      "metadata": {
        "colab": {
          "base_uri": "https://localhost:8080/"
        },
        "id": "QW9Il94bFpZB",
        "outputId": "fcdf3900-606c-4e13-83a2-a224f333bc3f"
      },
      "outputs": [
        {
          "output_type": "stream",
          "name": "stdout",
          "text": [
            "Type 'encode' to encrypt, type 'decode' to decrypt:\n",
            "decrypt\n",
            "Enter textjgf\n",
            "Enter input5\n",
            "eba\n"
          ]
        }
      ],
      "source": [
        "alphabet = ['a', 'b', 'c', 'd', 'e', 'f', 'g', 'h', 'i', 'j', 'k', 'l', 'm', 'n', 'o', 'p', 'q', 'r', 's', 't', 'u', 'v', 'w', 'x', 'y', 'z']\n",
        "\n",
        "direction = input(\"Type 'encode' to encrypt, type 'decode' to decrypt:\\n\")\n",
        "text = str(input(\"Enter text\"))\n",
        "shift = int(input(\"Enter shift number\"))\n",
        "\n",
        "if direction == \"encode\":\n",
        "    def encrypt(plain_text, shift_amount):\n",
        "        cipher_text = \"\"\n",
        "        for letter in text:\n",
        "            position = alphabet.index(letter)\n",
        "            new_position = position + shift_amount\n",
        "            cipher_text += alphabet[new_position]\n",
        "        print(cipher_text)\n",
        "\n",
        "\n",
        "    encrypt(plain_text=text, shift_amount=shift)\n",
        "\n",
        "elif direction == \"decode\":\n",
        "    def decrypt(cipher_text, shift_amount):\n",
        "        decrypted_text = \"\"\n",
        "        for letter in cipher_text:\n",
        "            position = alphabet.index(letter)\n",
        "            new_position = position - shift_amount\n",
        "            decrypted_text += alphabet[new_position]\n",
        "        print(decrypted_text)\n",
        "\n",
        "    decrypt(cipher_text=text, shift_amount=shift)\n",
        "\n",
        "else:\n",
        "    print(\"Enter a valid command!!!\")\n"
      ]
    },
    {
      "cell_type": "code",
      "source": [],
      "metadata": {
        "id": "AUGhc3wkG4qI"
      },
      "execution_count": null,
      "outputs": []
    }
  ]
}