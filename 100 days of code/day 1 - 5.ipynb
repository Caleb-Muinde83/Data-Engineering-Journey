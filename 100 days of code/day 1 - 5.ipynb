{
  "nbformat": 4,
  "nbformat_minor": 0,
  "metadata": {
    "colab": {
      "provenance": []
    },
    "kernelspec": {
      "name": "python3",
      "display_name": "Python 3"
    },
    "language_info": {
      "name": "python"
    }
  },
  "cells": [
    {
      "cell_type": "markdown",
      "source": [
        "Day 2."
      ],
      "metadata": {
        "id": "0UrUVNIXgOgb"
      }
    },
    {
      "cell_type": "code",
      "execution_count": null,
      "metadata": {
        "colab": {
          "base_uri": "https://localhost:8080/"
        },
        "id": "N93IH-wlV6Mm",
        "outputId": "64ea7a74-c735-457f-8229-fd2aece17116"
      },
      "outputs": [
        {
          "output_type": "stream",
          "name": "stdout",
          "text": [
            "Welcome to the tip calculator.\n",
            "What was the total bill?150\n",
            "What percentage tip woul you like to give?12\n",
            "How many people to split the bill?5\n",
            "each person should pay 33.60 usd\n"
          ]
        }
      ],
      "source": [
        "print(\"Welcome to the tip calculator.\")\n",
        "total_bill = float(input(\"What was the total bill?\"))\n",
        "percentage_tip = int(input(\"What percentage tip woul you like to give?\"))\n",
        "no_of_people = int(input(\"How many people to split the bill?\"))\n",
        "bill_with_tip = (percentage_tip/100 * total_bill) + total_bill\n",
        "each = bill_with_tip / no_of_people\n",
        "final_amount = round(each, 2)\n",
        "final_amount = \"{:.2f}\".format(each)\n",
        "print(f'each person should pay {final_amount} usd')"
      ]
    },
    {
      "cell_type": "markdown",
      "source": [
        "Day 3"
      ],
      "metadata": {
        "id": "7qvyiF1njN9I"
      }
    },
    {
      "cell_type": "code",
      "source": [
        "print(\"Welcome to the treaaure Island!!\")\n",
        "#Case conversion\n",
        "#direction = input(\"what direction do you want to go? right or left\")).lower()\n",
        "direction = str(input(\"what direction do you want to go? right or left\"))\n",
        "if direction == \"Right\":\n",
        "  print(\"game over\")\n",
        "elif direction == \"Left\":\n",
        "  dir2 = str(input(\"swim or wait?\"))\n",
        "  if dir2 == \"Swim\":\n",
        "    print(\"Game over\")\n",
        "  elif dir2 == \"Wait\":\n",
        "    dir3 = str(input(\"Pick the dorr you want to go through! Red, Blue or Yellow\"))\n",
        "    if dir3 == \"Red\":\n",
        "      print(\"Game over\")\n",
        "    elif dir3 == \"Blue\":\n",
        "      print(\"Game over\")\n",
        "    else:\n",
        "      print(\"You win\")\n",
        "\n"
      ],
      "metadata": {
        "colab": {
          "base_uri": "https://localhost:8080/"
        },
        "id": "woSEIzR-ctU7",
        "outputId": "94f1a125-2290-4bee-e68f-8d87d7adc1fa"
      },
      "execution_count": null,
      "outputs": [
        {
          "output_type": "stream",
          "name": "stdout",
          "text": [
            "Welcome to the treaaure Island!!\n",
            "what direction do you want to go? right or leftLeft\n",
            "swim or wait?Wait\n",
            "Pick the dorr you want to go through! Red, Blue or YellowYellow\n",
            "You win\n"
          ]
        }
      ]
    },
    {
      "cell_type": "code",
      "source": [
        "import random"
      ],
      "metadata": {
        "id": "wGb3taOw5lj6"
      },
      "execution_count": null,
      "outputs": []
    },
    {
      "cell_type": "markdown",
      "source": [
        "Day 4"
      ],
      "metadata": {
        "id": "LrLhYHChgNrs"
      }
    },
    {
      "cell_type": "code",
      "source": [
        "import random\n",
        "user_choice = int(input(\"pick either 0. Rock, 1. Paper or 2. Scissors\"))\n",
        "comp_choice = random.randint(0, 2)\n",
        "print(comp_choice)\n",
        "if user_choice == comp_choice:\n",
        "  print(\"its a draw\")\n",
        "elif user_choice == 0 and comp_choice == 1:\n",
        "  print(\"Comp wins\")\n",
        "elif user_choice == 0 and comp_choice == 2:\n",
        "  print(\"You win\")\n",
        "elif user_choice == 1 and comp_choice == 0:\n",
        "  print(\"You win\")\n",
        "elif user_choice == 1 and comp_choice == 2:\n",
        "  print(\"Comp wins\")\n",
        "elif user_choice == 2 and comp_choice == 0:\n",
        "  print(\"comp wins\")\n",
        "elif user_choice == 2 and comp_choice == 1:\n",
        "  print(\"You win\")"
      ],
      "metadata": {
        "colab": {
          "base_uri": "https://localhost:8080/"
        },
        "id": "fi3lbOYWn7hg",
        "outputId": "c307b3e1-7a0f-4208-8f8b-d573eb49172f"
      },
      "execution_count": null,
      "outputs": [
        {
          "output_type": "stream",
          "name": "stdout",
          "text": [
            "pick either 0. Rock, 1. Paper or 2. Scissors2\n",
            "1\n",
            "You win\n"
          ]
        }
      ]
    },
    {
      "cell_type": "markdown",
      "source": [
        "Day 5 easy level"
      ],
      "metadata": {
        "id": "QUTO0JeW9rdH"
      }
    },
    {
      "cell_type": "code",
      "source": [
        "import random\n",
        "letters = ['a', 'b', 'c', 'd', 'e', 'f', 'g', 'h', 'i', 'j', 'k', 'l', 'm', 'n', 'o', 'p', 'q', 'r', 's', 't', 'u', 'v', 'w', 'x', 'y', 'z', 'A', 'B', 'C', 'D', 'E', 'F', 'G', 'H', 'I', 'J', 'K', 'L', 'M', 'N', 'O', 'P', 'Q', 'R', 'S', 'T', 'U', 'V', 'W', 'X', 'Y', 'Z']\n",
        "numbers = ['0', '1', '2', '3', '4', '5', '6', '7', '8', '9']\n",
        "symbols = ['!', '#', '$', '%', '&', '(', ')', '*', '+']\n",
        "\n",
        "print(\"Welcome to the password generator!!!\")\n",
        "no_of_letters = int(input(\"How many letters do you want in your password?\"))\n",
        "no_of_symbols = int(input(\"How many symbols do you want in your password?\"))\n",
        "no_of_numbers = int(input(\"How many numbers do you want in your password?\"))\n",
        "\n",
        "\"\"\"password = \"\"\n",
        "for char in range(1, no_of_letters + 1):\n",
        "  random_char = random.choice(letters)\n",
        "  print(random_char)\n",
        "  password += random_char\n",
        "  print(password)\n",
        "\"\"\"\n",
        "password = \"\"\n",
        "for char in range(1, no_of_letters + 1):\n",
        "  random_letter = random.choice(letters)\n",
        "  print(random_letter)\n",
        "  #password = password + random_letter\n",
        "  password += random_letter\n",
        "  print(password)\n",
        "\n",
        "for symbol in range(1, no_of_symbols +1):\n",
        "  random_symbol = random.choice(symbols)\n",
        "  print(random_symbol)\n",
        "  #password = password = random_symbol\n",
        "  password += random_symbol\n",
        "  print(password)\n",
        "\n",
        "for num in range(1, no_of_numbers +1):\n",
        "  random_num = random.choice(numbers)\n",
        "  print(random_num)\n",
        "  #password = password + random_num\n",
        "  password += random_num\n",
        "  print(password)\n",
        "\n"
      ],
      "metadata": {
        "colab": {
          "base_uri": "https://localhost:8080/"
        },
        "id": "JnKKF73x18pS",
        "outputId": "2d5cd0f7-25d5-46bf-f597-1e0df1d459a9"
      },
      "execution_count": null,
      "outputs": [
        {
          "output_type": "stream",
          "name": "stdout",
          "text": [
            "Welcome to the password generator!!!\n",
            "How many letters do you want in your password?4\n",
            "How many symbols do you want in your password?4\n",
            "How many numbers do you want in your password?4\n",
            "i\n",
            "i\n",
            "p\n",
            "ip\n",
            "Y\n",
            "ipY\n",
            "g\n",
            "ipYg\n",
            "%\n",
            "ipYg%\n",
            "!\n",
            "ipYg%!\n",
            "*\n",
            "ipYg%!*\n",
            "%\n",
            "ipYg%!*%\n",
            "7\n",
            "ipYg%!*%7\n",
            "8\n",
            "ipYg%!*%78\n",
            "3\n",
            "ipYg%!*%783\n",
            "1\n",
            "ipYg%!*%7831\n"
          ]
        }
      ]
    },
    {
      "cell_type": "markdown",
      "source": [
        "Day 5 hard level prac"
      ],
      "metadata": {
        "id": "0IODMAWSHerA"
      }
    },
    {
      "cell_type": "code",
      "source": [
        "import random\n",
        "letters = ['a', 'b', 'c', 'd', 'e', 'f', 'g', 'h', 'i', 'j', 'k', 'l', 'm', 'n', 'o', 'p', 'q', 'r', 's', 't', 'u', 'v', 'w', 'x', 'y', 'z', 'A', 'B', 'C', 'D', 'E', 'F', 'G', 'H', 'I', 'J', 'K', 'L', 'M', 'N', 'O', 'P', 'Q', 'R', 'S', 'T', 'U', 'V', 'W', 'X', 'Y', 'Z']\n",
        "numbers = ['0', '1', '2', '3', '4', '5', '6', '7', '8', '9']\n",
        "symbols = ['!', '#', '$', '%', '&', '(', ')', '*', '+']\n",
        "\n",
        "print(\"Welcome to the password generator!!!\")\n",
        "no_of_letters = int(input(\"How many letters do you want in your password?\"))\n",
        "no_of_symbols = int(input(\"How many symbols do you want in your password?\"))\n",
        "no_of_numbers = int(input(\"How many numbers do you want in your password?\"))\n",
        "\n",
        "\"\"\"password = \"\"\n",
        "for char in range(1, no_of_letters + 1):\n",
        "  random_char = random.choice(letters)\n",
        "  print(random_char)\n",
        "  password += random_char\n",
        "  print(password)\n",
        "\"\"\"\n",
        "password = []\n",
        "for char in range(1, no_of_letters + 1):\n",
        "  password.append(random.choice(letters))\n",
        "  #random_letter = random.choice(letters)\n",
        "  print(random_letter)\n",
        "  #password = password + random_letter\n",
        "  #password += random_letter\n",
        "  print(password)\n",
        "\n",
        "for symbol in range(1, no_of_symbols +1):\n",
        "  password.append(random.choice(symbols))\n",
        "  #random_symbol = random.choice(symbols)\n",
        "  print(random_symbol)\n",
        "  #password = password = random_symbol\n",
        "  #password += random_symbol\n",
        "  print(password)\n",
        "\n",
        "for num in range(1, no_of_numbers +1):\n",
        "  random_num = random.choice(numbers)\n",
        "  print(random_num)\n",
        "  #password = password + random_num\n",
        "  password += random_num\n",
        "  print(password)\n",
        "\n",
        "random.shuffle(password)\n",
        "print(password)\n",
        "\n",
        "#my_list = ['s', '#', '&', 'J', 'w', '2', '7', ')', '(', '9', 'B', '6']\n",
        "joined_string = ''.join(str(element) for element in password)\n",
        "print(joined_string)\n"
      ],
      "metadata": {
        "colab": {
          "base_uri": "https://localhost:8080/"
        },
        "id": "OVy6hrFx8uJF",
        "outputId": "ced3b282-92be-46a2-ec50-b697485e9213"
      },
      "execution_count": null,
      "outputs": [
        {
          "output_type": "stream",
          "name": "stdout",
          "text": [
            "Welcome to the password generator!!!\n",
            "How many letters do you want in your password?4\n",
            "How many symbols do you want in your password?4\n",
            "How many numbers do you want in your password?4\n",
            "J\n",
            "['d']\n",
            "J\n",
            "['d', 'n']\n",
            "J\n",
            "['d', 'n', 'T']\n",
            "J\n",
            "['d', 'n', 'T', 'x']\n",
            ")\n",
            "['d', 'n', 'T', 'x', '*']\n",
            ")\n",
            "['d', 'n', 'T', 'x', '*', '(']\n",
            ")\n",
            "['d', 'n', 'T', 'x', '*', '(', '#']\n",
            ")\n",
            "['d', 'n', 'T', 'x', '*', '(', '#', '+']\n",
            "3\n",
            "['d', 'n', 'T', 'x', '*', '(', '#', '+', '3']\n",
            "2\n",
            "['d', 'n', 'T', 'x', '*', '(', '#', '+', '3', '2']\n",
            "3\n",
            "['d', 'n', 'T', 'x', '*', '(', '#', '+', '3', '2', '3']\n",
            "2\n",
            "['d', 'n', 'T', 'x', '*', '(', '#', '+', '3', '2', '3', '2']\n",
            "['*', 'd', '3', '(', '#', 'T', '3', '2', '+', 'n', '2', 'x']\n",
            "*d3(#T32+n2x\n"
          ]
        }
      ]
    },
    {
      "cell_type": "markdown",
      "source": [
        "Day 5 hard level final"
      ],
      "metadata": {
        "id": "urw9LHk8QsYO"
      }
    },
    {
      "cell_type": "code",
      "source": [
        "import random\n",
        "letters = ['a', 'b', 'c', 'd', 'e', 'f', 'g', 'h', 'i', 'j', 'k', 'l', 'm', 'n', 'o', 'p', 'q', 'r', 's', 't', 'u', 'v', 'w', 'x', 'y', 'z', 'A', 'B', 'C', 'D', 'E', 'F', 'G', 'H', 'I', 'J', 'K', 'L', 'M', 'N', 'O', 'P', 'Q', 'R', 'S', 'T', 'U', 'V', 'W', 'X', 'Y', 'Z']\n",
        "numbers = ['0', '1', '2', '3', '4', '5', '6', '7', '8', '9']\n",
        "symbols = ['!', '#', '$', '%', '&', '(', ')', '*', '+']\n",
        "\n",
        "print(\"Welcome to the password generator!!!\")\n",
        "no_of_letters = int(input(\"How many letters do you want in your password?\"))\n",
        "no_of_symbols = int(input(\"How many symbols do you want in your password?\"))\n",
        "no_of_numbers = int(input(\"How many numbers do you want in your password?\"))\n",
        "\n",
        "password_list = []\n",
        "for letter in range(1, no_of_letters + 1):\n",
        "  password_list.append(random.choice(letters))\n",
        "\n",
        "for symbol in range(1, no_of_symbols +1):\n",
        "  password_list.append(random.choice(symbols))\n",
        "\n",
        "for num in range(1, no_of_numbers + 1):\n",
        "  password_list.append(random.choice(numbers))\n",
        "\n",
        "print(password_list)\n",
        "\n",
        "for char in password_list:\n",
        "  random.shuffle(password_list)\n",
        "  print(password_list)\n",
        "\n",
        "to_string_password = ''.join(str(element) for element in password_list)\n",
        "print(f'Your final password is {to_string_password}')\n",
        "\n",
        "\"\"\"final_password = \"\"\n",
        "for char in password_list:\n",
        "  final_password+=char\n",
        "  print(final_password)\"\"\""
      ],
      "metadata": {
        "colab": {
          "base_uri": "https://localhost:8080/",
          "height": 278
        },
        "id": "39MKmyb8HziS",
        "outputId": "361365eb-ceaf-4bb3-a24d-3d9be9da8ddc"
      },
      "execution_count": null,
      "outputs": [
        {
          "output_type": "stream",
          "name": "stdout",
          "text": [
            "Welcome to the password generator!!!\n",
            "How many letters do you want in your password?4\n",
            "How many symbols do you want in your password?2\n",
            "How many numbers do you want in your password?2\n",
            "['N', 'O', 'H', 'g', '+', '#', '8', '3']\n",
            "['g', '+', 'H', '#', '3', 'O', 'N', '8']\n",
            "['H', '3', 'O', 'N', '8', 'g', '#', '+']\n",
            "['g', '#', '3', 'H', 'N', '+', '8', 'O']\n",
            "['O', '#', '+', 'N', 'H', 'g', '3', '8']\n",
            "['8', '+', 'N', '3', '#', 'O', 'g', 'H']\n",
            "['3', '8', '+', 'g', 'O', 'H', '#', 'N']\n",
            "['N', '8', 'H', '3', 'O', 'g', '#', '+']\n",
            "['H', 'g', '3', 'O', '#', 'N', '8', '+']\n",
            "Your final password is Hg3O#N8+\n"
          ]
        },
        {
          "output_type": "execute_result",
          "data": {
            "text/plain": [
              "'final_password = \"\"\\nfor char in password_list:\\n  final_password+=char\\n  print(final_password)'"
            ],
            "application/vnd.google.colaboratory.intrinsic+json": {
              "type": "string"
            }
          },
          "metadata": {},
          "execution_count": 1
        }
      ]
    },
    {
      "cell_type": "markdown",
      "source": [
        "Day 6"
      ],
      "metadata": {
        "id": "ybqlTzFe3iYF"
      }
    },
    {
      "cell_type": "code",
      "source": [],
      "metadata": {
        "id": "3rL73GliTCp8"
      },
      "execution_count": null,
      "outputs": []
    }
  ]
}